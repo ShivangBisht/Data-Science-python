{
 "cells": [
  {
   "cell_type": "markdown",
   "id": "2a417d64",
   "metadata": {},
   "source": [
    "### Datatypes:\n",
    "\n",
    "#### 1. Fundamental Datatypes\n",
    "- int\n",
    "- float\n",
    "- complex\n",
    "- strings\n",
    "- boolean\n",
    "- None\n",
    "\n",
    "===============\n",
    "\n",
    "#### 2. Derived Datatypes\n",
    "- Lists\n",
    "- Tuple\n",
    "- Dictionary\n",
    "- Set\n",
    "- Frozenset"
   ]
  },
  {
   "cell_type": "code",
   "execution_count": 3,
   "id": "2f5bafbd",
   "metadata": {},
   "outputs": [
    {
     "name": "stdout",
     "output_type": "stream",
     "text": [
      "10\n",
      "<class 'int'>\n"
     ]
    }
   ],
   "source": [
    "# integers - whole numbers\n",
    "num = 10\n",
    "print(num)\n",
    "print(type(num))"
   ]
  },
  {
   "cell_type": "code",
   "execution_count": 5,
   "id": "921d4095",
   "metadata": {},
   "outputs": [
    {
     "name": "stdout",
     "output_type": "stream",
     "text": [
      "20.56\n",
      "<class 'float'>\n"
     ]
    }
   ],
   "source": [
    "# float - real numberes (fraction numbers)\n",
    "num1 = 20.56\n",
    "print(num1)\n",
    "print(type(num1))"
   ]
  },
  {
   "cell_type": "code",
   "execution_count": 7,
   "id": "243df357",
   "metadata": {},
   "outputs": [
    {
     "name": "stdout",
     "output_type": "stream",
     "text": [
      "(2+5j)\n",
      "<class 'complex'>\n"
     ]
    }
   ],
   "source": [
    "# complex numbers\n",
    "com = 2 + 5j # 2 is real part and 5 is imaginary part\n",
    "print(com)\n",
    "print(type(com))"
   ]
  },
  {
   "cell_type": "code",
   "execution_count": 8,
   "id": "5854d258",
   "metadata": {},
   "outputs": [
    {
     "name": "stdout",
     "output_type": "stream",
     "text": [
      "True False\n",
      "<class 'bool'>\n"
     ]
    }
   ],
   "source": [
    "# boolean\n",
    "b1 = True #True ---> 1 (any number other than 0)\n",
    "b2 = False #False ---> 0\n",
    "print(b1, b2)\n",
    "print(type(b1))"
   ]
  },
  {
   "cell_type": "code",
   "execution_count": 9,
   "id": "280b74b7",
   "metadata": {},
   "outputs": [
    {
     "name": "stdout",
     "output_type": "stream",
     "text": [
      "None\n",
      "<class 'NoneType'>\n"
     ]
    }
   ],
   "source": [
    "# NoneType\n",
    "val = None\n",
    "print(val)\n",
    "print(type(val))"
   ]
  },
  {
   "cell_type": "code",
   "execution_count": null,
   "id": "ccdcd30a",
   "metadata": {},
   "outputs": [],
   "source": []
  }
 ],
 "metadata": {
  "kernelspec": {
   "display_name": "Python 3 (ipykernel)",
   "language": "python",
   "name": "python3"
  },
  "language_info": {
   "codemirror_mode": {
    "name": "ipython",
    "version": 3
   },
   "file_extension": ".py",
   "mimetype": "text/x-python",
   "name": "python",
   "nbconvert_exporter": "python",
   "pygments_lexer": "ipython3",
   "version": "3.9.7"
  }
 },
 "nbformat": 4,
 "nbformat_minor": 5
}
