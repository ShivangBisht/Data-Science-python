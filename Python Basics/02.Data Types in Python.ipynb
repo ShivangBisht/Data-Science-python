{
 "cells": [
  {
   "cell_type": "markdown",
   "id": "2a417d64",
   "metadata": {},
   "source": [
    "### Datatypes:\n",
    "\n",
    "#### 1. Fundamental Datatypes\n",
    "- int\n",
    "- float\n",
    "- complex\n",
    "- strings\n",
    "- boolean\n",
    "- None\n",
    "\n",
    "===============\n",
    "\n",
    "#### 2. Derived Datatypes\n",
    "- Lists\n",
    "- Tuple\n",
    "- Dictionary\n",
    "- Set\n",
    "- Frozenset"
   ]
  },
  {
   "cell_type": "markdown",
   "id": "d4c4066e",
   "metadata": {},
   "source": [
    "#### Fundamental Dataypes"
   ]
  },
  {
   "cell_type": "code",
   "execution_count": 1,
   "id": "2f5bafbd",
   "metadata": {},
   "outputs": [
    {
     "name": "stdout",
     "output_type": "stream",
     "text": [
      "10\n",
      "<class 'int'>\n"
     ]
    }
   ],
   "source": [
    "# integers - whole numbers\n",
    "num = 10\n",
    "print(num)\n",
    "print(type(num))"
   ]
  },
  {
   "cell_type": "code",
   "execution_count": 2,
   "id": "921d4095",
   "metadata": {},
   "outputs": [
    {
     "name": "stdout",
     "output_type": "stream",
     "text": [
      "20.56\n",
      "<class 'float'>\n"
     ]
    }
   ],
   "source": [
    "# float - real numberes (fraction numbers)\n",
    "num1 = 20.56\n",
    "print(num1)\n",
    "print(type(num1))"
   ]
  },
  {
   "cell_type": "code",
   "execution_count": 3,
   "id": "243df357",
   "metadata": {},
   "outputs": [
    {
     "name": "stdout",
     "output_type": "stream",
     "text": [
      "(2+5j)\n",
      "<class 'complex'>\n"
     ]
    }
   ],
   "source": [
    "# complex numbers\n",
    "com = 2 + 5j # 2 is real part and 5 is imaginary part\n",
    "print(com)\n",
    "print(type(com))"
   ]
  },
  {
   "cell_type": "code",
   "execution_count": 4,
   "id": "5854d258",
   "metadata": {},
   "outputs": [
    {
     "name": "stdout",
     "output_type": "stream",
     "text": [
      "True False\n",
      "<class 'bool'>\n"
     ]
    }
   ],
   "source": [
    "# boolean\n",
    "b1 = True #True ---> 1 (any number other than 0)\n",
    "b2 = False #False ---> 0\n",
    "print(b1, b2)\n",
    "print(type(b1))"
   ]
  },
  {
   "cell_type": "code",
   "execution_count": 5,
   "id": "280b74b7",
   "metadata": {},
   "outputs": [
    {
     "name": "stdout",
     "output_type": "stream",
     "text": [
      "None\n",
      "<class 'NoneType'>\n"
     ]
    }
   ],
   "source": [
    "# NoneType\n",
    "val = None\n",
    "print(val)\n",
    "print(type(val))"
   ]
  },
  {
   "cell_type": "code",
   "execution_count": 6,
   "id": "ccdcd30a",
   "metadata": {},
   "outputs": [
    {
     "name": "stdout",
     "output_type": "stream",
     "text": [
      "Hello World\n",
      "<class 'str'>\n"
     ]
    }
   ],
   "source": [
    "# strings - sequence of characteres within quotes\n",
    "str1 = 'Hello World'\n",
    "print(str1)\n",
    "print(type(str1))"
   ]
  },
  {
   "cell_type": "markdown",
   "id": "0e699e7d",
   "metadata": {},
   "source": [
    "#### Indexing of a string\n",
    "\n",
    "Index: Position of a character, index starts from 0. To access each character - [] subscript operator is used"
   ]
  },
  {
   "cell_type": "code",
   "execution_count": 7,
   "id": "1672b55e",
   "metadata": {},
   "outputs": [
    {
     "data": {
      "text/plain": [
       "'H'"
      ]
     },
     "execution_count": 7,
     "metadata": {},
     "output_type": "execute_result"
    }
   ],
   "source": [
    "str1[0]"
   ]
  },
  {
   "cell_type": "code",
   "execution_count": 8,
   "id": "cb64847b",
   "metadata": {},
   "outputs": [
    {
     "data": {
      "text/plain": [
       "'W'"
      ]
     },
     "execution_count": 8,
     "metadata": {},
     "output_type": "execute_result"
    }
   ],
   "source": [
    "str1[6]"
   ]
  },
  {
   "cell_type": "code",
   "execution_count": 13,
   "id": "e08ec305",
   "metadata": {},
   "outputs": [
    {
     "name": "stdout",
     "output_type": "stream",
     "text": [
      "11\n",
      "start of string is H\n",
      "end of string is d\n"
     ]
    }
   ],
   "source": [
    "#index starts from 0 and ends at (n-1), where n is length of strings\n",
    "print(len(str1))\n",
    "print('start of string is', str1[0])\n",
    "print('end of string is', str1[10])"
   ]
  },
  {
   "cell_type": "code",
   "execution_count": 14,
   "id": "acb209f4",
   "metadata": {},
   "outputs": [
    {
     "data": {
      "text/plain": [
       "'H'"
      ]
     },
     "execution_count": 14,
     "metadata": {},
     "output_type": "execute_result"
    }
   ],
   "source": [
    "# negative indexing\n",
    "#  H   e  l  l   o     W  o  r  l d\n",
    "#-11 -10 -9 -8 -7 -6 -5 -4 -3 -2 -1\n",
    "\n",
    "str1[-11]"
   ]
  },
  {
   "cell_type": "markdown",
   "id": "88065d8b",
   "metadata": {},
   "source": [
    "#### Derived Datatypes"
   ]
  },
  {
   "cell_type": "code",
   "execution_count": 28,
   "id": "c965f996",
   "metadata": {},
   "outputs": [
    {
     "name": "stdout",
     "output_type": "stream",
     "text": [
      "['numbers', 20, 32.5, True, (6-7j)]\n",
      "<class 'list'>\n"
     ]
    }
   ],
   "source": [
    "# Lists : sequence of hetrogenous items/elements, each item is separated by comma\n",
    "# the itmes are inclosed within []\n",
    "\n",
    "list1 = ['numbers', 20, 32.5, True, 6-7j]\n",
    "print(list1)\n",
    "print(type(list1))"
   ]
  },
  {
   "cell_type": "code",
   "execution_count": 32,
   "id": "3023d4b8",
   "metadata": {},
   "outputs": [
    {
     "name": "stdout",
     "output_type": "stream",
     "text": [
      "numbers\n",
      "(6-7j)\n",
      "True\n"
     ]
    }
   ],
   "source": [
    "#indexing can be done on lists too\n",
    "print(list1[0])\n",
    "print(list1[-1])\n",
    "print(list1[3])"
   ]
  },
  {
   "cell_type": "code",
   "execution_count": 34,
   "id": "3c36225c",
   "metadata": {},
   "outputs": [
    {
     "name": "stdout",
     "output_type": "stream",
     "text": [
      "('numbers', 1, 2.5, True)\n",
      "<class 'tuple'>\n"
     ]
    }
   ],
   "source": [
    "# Tuple - comma separated sequence of hetrogenous elements\n",
    "#enclosed between () and is immutable\n",
    "\n",
    "tup1 = ('numbers', 1, 2.5, True)\n",
    "print(tup1)\n",
    "print(type(tup1))"
   ]
  },
  {
   "cell_type": "code",
   "execution_count": null,
   "id": "7b989a58",
   "metadata": {},
   "outputs": [],
   "source": []
  }
 ],
 "metadata": {
  "kernelspec": {
   "display_name": "Python 3 (ipykernel)",
   "language": "python",
   "name": "python3"
  },
  "language_info": {
   "codemirror_mode": {
    "name": "ipython",
    "version": 3
   },
   "file_extension": ".py",
   "mimetype": "text/x-python",
   "name": "python",
   "nbconvert_exporter": "python",
   "pygments_lexer": "ipython3",
   "version": "3.9.7"
  }
 },
 "nbformat": 4,
 "nbformat_minor": 5
}
