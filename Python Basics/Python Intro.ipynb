{
 "cells": [
  {
   "cell_type": "markdown",
   "id": "f56f5b84",
   "metadata": {},
   "source": [
    "## Python Introduction"
   ]
  },
  {
   "cell_type": "code",
   "execution_count": 3,
   "id": "059e0691",
   "metadata": {},
   "outputs": [],
   "source": [
    "# this is a comment\n",
    "# symbol is used to write a comment in pyhton code and won't be executed.\n",
    "# used for informing or remembering what the code part does"
   ]
  },
  {
   "cell_type": "markdown",
   "id": "0ad4e057",
   "metadata": {},
   "source": [
    "**Need of OS**\n",
    "- Interact with computer\n",
    "- Interface between user and computer\n",
    "- Runs application\n",
    "- Manages resources like CPU, Memory etc.\n",
    "\n",
    "**Programming Language use**\n",
    "- Communicate with computer\n",
    "- Syntax (set of rules to write a code)\n",
    "- Keywords (pre-defined reserved words)\n",
    "\n",
    "**High and Low level programming language**\n",
    "- High level\n",
    "    - close to how humans communicate\n",
    "    - easy to code and understand\n",
    "    - takes more time to translate into machine level code\n",
    "    - eg: pyhton, jave etc.\n",
    " \n",
    "- Low level\n",
    "    - closer to machine code\n",
    "    - difficult to code\n",
    "    - faster\n",
    "    - eg: assembly language"
   ]
  },
  {
   "cell_type": "markdown",
   "id": "539c618e",
   "metadata": {},
   "source": [
    "===============\n",
    "\n",
    "### Why pyhton ?\n",
    "- Open source, easy to learn, debug and understand\n",
    "- Memory management is automatic\n",
    "- Lots of libraries and community support\n",
    "- Platform independent and dynamically typed\n",
    "\n",
    "===============\n",
    "\n",
    "### Internal working of Python\n",
    "\n",
    "*Python uses both compiler and interpreter.*\n",
    "*Where-ever the memory allocation and type checking happens, the language is called as that language (compiled or interpreted)*"
   ]
  },
  {
   "cell_type": "code",
   "execution_count": 1,
   "id": "4df472dc",
   "metadata": {},
   "outputs": [],
   "source": [
    "#                  Compilation                   Interpreter  \n",
    "# Source code(.py)-------------> Byte code(.pyc)-------------> Machine code"
   ]
  },
  {
   "cell_type": "markdown",
   "id": "c732730c",
   "metadata": {},
   "source": [
    "===============\n",
    "\n",
    "### Types of error in Python\n",
    "\n",
    "1. **Compile time error** : During compilation only these error are checked\n",
    "    - Syntax Error\n",
    "    - Indentation Error\n",
    "*No byte code will be generated if error found during compilation*\n",
    "\n",
    "2. **Run time error** : During interpretation (some examples below)\n",
    "    - Value Error\n",
    "    - Name Error\n",
    "    - OS Error\n",
    "    - DivideByZero Error\n",
    "    \n",
    "==============="
   ]
  },
  {
   "cell_type": "markdown",
   "id": "a6526d5f",
   "metadata": {},
   "source": [
    "### Memory management in Python\n",
    "\n",
    "Memory management in pyhton is automatic and taken care by Python Memory Manager (PMM).\n",
    "Two types of memory allocation\n",
    "\n",
    "1. **Static Memory allocation** : Memory being allocated during compile time and ***stack*** is used for static allocation.\n",
    "\n",
    "\n",
    "2. **Dynamic Memory allocation** : Memory is allocated during run time and ***heap*** is used. In python dynamic memory allocation is done."
   ]
  },
  {
   "cell_type": "code",
   "execution_count": null,
   "id": "b0aff171",
   "metadata": {},
   "outputs": [],
   "source": []
  }
 ],
 "metadata": {
  "kernelspec": {
   "display_name": "Python 3 (ipykernel)",
   "language": "python",
   "name": "python3"
  },
  "language_info": {
   "codemirror_mode": {
    "name": "ipython",
    "version": 3
   },
   "file_extension": ".py",
   "mimetype": "text/x-python",
   "name": "python",
   "nbconvert_exporter": "python",
   "pygments_lexer": "ipython3",
   "version": "3.9.7"
  }
 },
 "nbformat": 4,
 "nbformat_minor": 5
}
