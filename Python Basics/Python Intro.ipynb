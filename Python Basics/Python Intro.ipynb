{
 "cells": [
  {
   "cell_type": "markdown",
   "id": "f56f5b84",
   "metadata": {},
   "source": [
    "## Python Introduction"
   ]
  },
  {
   "cell_type": "code",
   "execution_count": 3,
   "id": "059e0691",
   "metadata": {},
   "outputs": [],
   "source": [
    "# this is a comment\n",
    "# symbol is used to write a comment in pyhton code and won't be executed.\n",
    "# used for informing or remembering what the code part does"
   ]
  },
  {
   "cell_type": "markdown",
   "id": "0ad4e057",
   "metadata": {},
   "source": [
    "**Need of OS**\n",
    "- Interact with computer\n",
    "- Interface between user and computer\n",
    "- Runs application\n",
    "- Manages resources like CPU, Memory etc.\n",
    "\n",
    "**Programming Language use**\n",
    "- Communicate with computer\n",
    "- Syntax (set of rules to write a code)\n",
    "- Keywords (pre-defined reserved words)\n",
    "\n",
    "**High and Low level programming language**\n",
    "- High level\n",
    "    - close to how humans communicate\n",
    "    - easy to code and understand\n",
    "    - takes more time to translate into machine level code\n",
    "    - eg: pyhton, jave etc.\n",
    " \n",
    "- Low level\n",
    "    - closer to machine code\n",
    "    - difficult to code\n",
    "    - faster\n",
    "    - eg: assembly language"
   ]
  },
  {
   "cell_type": "markdown",
   "id": "539c618e",
   "metadata": {},
   "source": [
    "### Why pyhton ?\n",
    "- Open source, easy to learn, debug and understand\n",
    "- Memory management is automatic\n",
    "- Lots of libraries and community support\n",
    "- Platform independent and dynamically typed"
   ]
  },
  {
   "cell_type": "code",
   "execution_count": null,
   "id": "4df472dc",
   "metadata": {},
   "outputs": [],
   "source": []
  }
 ],
 "metadata": {
  "kernelspec": {
   "display_name": "Python 3 (ipykernel)",
   "language": "python",
   "name": "python3"
  },
  "language_info": {
   "codemirror_mode": {
    "name": "ipython",
    "version": 3
   },
   "file_extension": ".py",
   "mimetype": "text/x-python",
   "name": "python",
   "nbconvert_exporter": "python",
   "pygments_lexer": "ipython3",
   "version": "3.9.7"
  }
 },
 "nbformat": 4,
 "nbformat_minor": 5
}
