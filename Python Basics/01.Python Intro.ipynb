{
 "cells": [
  {
   "cell_type": "markdown",
   "id": "f56f5b84",
   "metadata": {},
   "source": [
    "## Python Introduction"
   ]
  },
  {
   "cell_type": "code",
   "execution_count": 1,
   "id": "059e0691",
   "metadata": {},
   "outputs": [],
   "source": [
    "# this is a comment\n",
    "# symbol is used to write a comment in pyhton code and won't be executed.\n",
    "# used for informing or remembering what the code part does"
   ]
  },
  {
   "cell_type": "markdown",
   "id": "0ad4e057",
   "metadata": {},
   "source": [
    "**Need of OS**\n",
    "- Interact with computer\n",
    "- Interface between user and computer\n",
    "- Runs application\n",
    "- Manages resources like CPU, Memory etc.\n",
    "\n",
    "**Programming Language use**\n",
    "- Communicate with computer\n",
    "- Syntax (set of rules to write a code)\n",
    "- Keywords (pre-defined reserved words)\n",
    "\n",
    "**High and Low level programming language**\n",
    "- High level\n",
    "    - close to how humans communicate\n",
    "    - easy to code and understand\n",
    "    - takes more time to translate into machine level code\n",
    "    - eg: pyhton, jave etc.\n",
    " \n",
    "- Low level\n",
    "    - closer to machine code\n",
    "    - difficult to code\n",
    "    - faster\n",
    "    - eg: assembly language"
   ]
  },
  {
   "cell_type": "markdown",
   "id": "539c618e",
   "metadata": {},
   "source": [
    "===============\n",
    "\n",
    "### Why pyhton ?\n",
    "- Open source, easy to learn, debug and understand\n",
    "- Memory management is automatic\n",
    "- Lots of libraries and community support\n",
    "- Platform independent and dynamically typed\n",
    "\n",
    "===============\n",
    "\n",
    "### Internal working of Python\n",
    "\n",
    "*Python uses both compiler and interpreter.*\n",
    "*Where-ever the memory allocation and type checking happens, the language is called as that language (compiled or interpreted)*"
   ]
  },
  {
   "cell_type": "code",
   "execution_count": 2,
   "id": "4df472dc",
   "metadata": {},
   "outputs": [],
   "source": [
    "#                  Compilation                   Interpreter  \n",
    "# Source code(.py)-------------> Byte code(.pyc)-------------> Machine code"
   ]
  },
  {
   "cell_type": "markdown",
   "id": "c732730c",
   "metadata": {},
   "source": [
    "===============\n",
    "\n",
    "### Types of error in Python\n",
    "\n",
    "1. **Compile time error** : During compilation only these error are checked\n",
    "    - Syntax Error\n",
    "    - Indentation Error\n",
    "*No byte code will be generated if error found during compilation*\n",
    "\n",
    "2. **Run time error** : During interpretation (some examples below)\n",
    "    - Value Error\n",
    "    - Name Error\n",
    "    - OS Error\n",
    "    - DivideByZero Error\n",
    "    \n",
    "==============="
   ]
  },
  {
   "cell_type": "markdown",
   "id": "a6526d5f",
   "metadata": {},
   "source": [
    "### Memory management in Python\n",
    "\n",
    "Memory management in pyhton is automatic and taken care by Python Memory Manager (PMM).\n",
    "Two types of memory allocation\n",
    "\n",
    "1. **Static Memory allocation** : Memory being allocated during compile time and ***stack*** is used for static allocation.\n",
    "\n",
    "\n",
    "2. **Dynamic Memory allocation** : Memory is allocated during run time and ***heap*** is used. In python dynamic memory allocation is done."
   ]
  },
  {
   "cell_type": "markdown",
   "id": "230d2c7a",
   "metadata": {},
   "source": [
    "## Components of Python program"
   ]
  },
  {
   "cell_type": "code",
   "execution_count": 3,
   "id": "b0aff171",
   "metadata": {},
   "outputs": [],
   "source": [
    "# Keywords - reserved words\n",
    "# Used for specific task, eg: if, for, true, def.....etc. "
   ]
  },
  {
   "cell_type": "code",
   "execution_count": 4,
   "id": "5755d108",
   "metadata": {},
   "outputs": [
    {
     "name": "stdout",
     "output_type": "stream",
     "text": [
      "['False', 'None', 'True', '__peg_parser__', 'and', 'as', 'assert', 'async', 'await', 'break', 'class', 'continue', 'def', 'del', 'elif', 'else', 'except', 'finally', 'for', 'from', 'global', 'if', 'import', 'in', 'is', 'lambda', 'nonlocal', 'not', 'or', 'pass', 'raise', 'return', 'try', 'while', 'with', 'yield']\n"
     ]
    }
   ],
   "source": [
    "import keyword\n",
    "print(keyword.kwlist)"
   ]
  },
  {
   "cell_type": "code",
   "execution_count": 5,
   "id": "a80c5afe",
   "metadata": {},
   "outputs": [
    {
     "data": {
      "text/plain": [
       "36"
      ]
     },
     "execution_count": 5,
     "metadata": {},
     "output_type": "execute_result"
    }
   ],
   "source": [
    "len(keyword.kwlist)"
   ]
  },
  {
   "cell_type": "code",
   "execution_count": 6,
   "id": "37e4add9",
   "metadata": {},
   "outputs": [
    {
     "name": "stdout",
     "output_type": "stream",
     "text": [
      "Help on built-in function len in module builtins:\n",
      "\n",
      "len(obj, /)\n",
      "    Return the number of items in a container.\n",
      "\n"
     ]
    }
   ],
   "source": [
    "help(len)"
   ]
  },
  {
   "cell_type": "code",
   "execution_count": 7,
   "id": "3dcae388",
   "metadata": {},
   "outputs": [
    {
     "name": "stdout",
     "output_type": "stream",
     "text": [
      "Help on method raw_input in module ipykernel.kernelbase:\n",
      "\n",
      "raw_input(prompt='') method of ipykernel.ipkernel.IPythonKernel instance\n",
      "    Forward raw_input to frontends\n",
      "    \n",
      "    Raises\n",
      "    ------\n",
      "    StdinNotImplementedError if active frontend doesn't support stdin.\n",
      "\n"
     ]
    }
   ],
   "source": [
    "# print() and input() functions are used for input and output \n",
    "help(input)"
   ]
  },
  {
   "cell_type": "markdown",
   "id": "e9cd9dad",
   "metadata": {},
   "source": [
    "==============\n",
    "\n",
    "**Identifiers** : names given to variables, functions and classes\n",
    "                    eg ---> num = 100\n",
    "                            def greet()\n",
    "  \n",
    "  *here num and greet are identifier*\n",
    "  \n",
    "***Rules for defining identifier:***\n",
    "- Can have - 0-9, a-z, A-Z, _\n",
    "- It cannot start with a number (0-9)\n",
    "- No other special symbol is allowed except '_'\n",
    "- Cannot be a keyword\n",
    "- Are case sensitive\n",
    "\n",
    "===============\n",
    "\n",
    "**Variables** : refers to the memory where any value/data is stored. They store data/value.\n",
    "\n",
    "**Literals** : values or data stored in memory.\n",
    "- Types of literals:\n",
    "    1. Numeric literal (int, float, complex, binary, octal, hexadecimal)\n",
    "    2. String literal (sequence of characters between quotes)\n",
    "    3. Boolean literal (True, False)\n",
    "    4. Special literal (None)\n",
    "    ***Constants are defined using capital letters, eg: PI = 3.14***"
   ]
  },
  {
   "cell_type": "code",
   "execution_count": null,
   "id": "272428cc",
   "metadata": {},
   "outputs": [],
   "source": []
  }
 ],
 "metadata": {
  "kernelspec": {
   "display_name": "Python 3 (ipykernel)",
   "language": "python",
   "name": "python3"
  },
  "language_info": {
   "codemirror_mode": {
    "name": "ipython",
    "version": 3
   },
   "file_extension": ".py",
   "mimetype": "text/x-python",
   "name": "python",
   "nbconvert_exporter": "python",
   "pygments_lexer": "ipython3",
   "version": "3.9.7"
  }
 },
 "nbformat": 4,
 "nbformat_minor": 5
}
