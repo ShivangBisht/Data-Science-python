{
 "cells": [
  {
   "cell_type": "markdown",
   "id": "bf9fec08",
   "metadata": {},
   "source": [
    "## Git and Git Hub"
   ]
  },
  {
   "cell_type": "markdown",
   "id": "2220194b",
   "metadata": {},
   "source": [
    "**Git** is a version control system (VCS) allowing one to control the version of your codes, enables us to keep track of our changes done to the code.\n",
    "VCS is a system that records chnages to a file or set of files so that we can recall any specific version later.\n",
    "\n",
    "- Also allows to work on same code on different versions\n",
    "- Keeps tarck and trace the changes\n",
    "- Restores the previous versions\n",
    "\n",
    "*Most popular version control system.*\n",
    "\n",
    "==========\n",
    "\n",
    "### Types of VCS\n",
    "\n",
    "- **Centralised VCS**: Has a  central server that contains the copy of a project.\n",
    "\n",
    "- **Distributes VCS**: Doesn't rely on central server to store the version. Each client have there own copies\n",
    "\n",
    "==========\n",
    "\n",
    "### VCS Terms\n",
    "\n",
    "- Repository(repo) : Place where files are stored with the history.\n",
    "- Clone : Copying/Creating a repo from another repo.\n",
    "- Conflict : When different devlopers makes changes in same file and system is unable to resolve it.\n",
    "- Merge : Integrating 2 changes togethger.\n",
    "- Branch : Set of files under version control maybe branched at a certain point in time so that 2 copies of those file are available and can be developed indipendently.\n",
    "- Initialize : Creating a new empty repo.\n",
    "\n",
    "=========="
   ]
  },
  {
   "cell_type": "markdown",
   "id": "5812fe1f",
   "metadata": {},
   "source": [
    "### Linux commands (used on GitBash)"
   ]
  },
  {
   "cell_type": "markdown",
   "id": "50fba960",
   "metadata": {},
   "source": [
    " - pwd (present working directory)\n",
    " - cd (change directory)\n",
    " - ls (shows list of files present in dir)\n",
    " - vim (to create file and edit it)\n",
    " - cat (to read file)\n",
    " - touch (creates an empty file)\n",
    " - rm (remove file), rm -rf(deletes evrything inisde directory)\n",
    " - rmdir (removes directory)\n",
    " - cp (copy files)\n",
    " - mv (move files and rename files)\n",
    " \n",
    "=========="
   ]
  },
  {
   "cell_type": "markdown",
   "id": "e187dc73",
   "metadata": {},
   "source": [
    "### GitBash Commands"
   ]
  },
  {
   "cell_type": "markdown",
   "id": "016afa60",
   "metadata": {},
   "source": [
    "- git init : to initialize repo making\n",
    "- git config --global  --list\n",
    "- git config --global user.name\n",
    "- git vonfig --global user.email\n",
    "- git add [file]\n",
    "- git status\n",
    "- git --cached [file]\n",
    "- git commit -m 'write any messgae' [file]"
   ]
  },
  {
   "cell_type": "code",
   "execution_count": null,
   "id": "f4b1480c",
   "metadata": {},
   "outputs": [],
   "source": []
  }
 ],
 "metadata": {
  "kernelspec": {
   "display_name": "Python 3 (ipykernel)",
   "language": "python",
   "name": "python3"
  },
  "language_info": {
   "codemirror_mode": {
    "name": "ipython",
    "version": 3
   },
   "file_extension": ".py",
   "mimetype": "text/x-python",
   "name": "python",
   "nbconvert_exporter": "python",
   "pygments_lexer": "ipython3",
   "version": "3.9.7"
  }
 },
 "nbformat": 4,
 "nbformat_minor": 5
}
